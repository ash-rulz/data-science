{
 "cells": [
  {
   "cell_type": "markdown",
   "id": "c060197e-919e-4cf3-882b-b5e3169c7852",
   "metadata": {},
   "source": [
    "Lists"
   ]
  },
  {
   "cell_type": "code",
   "execution_count": 2,
   "id": "c4f17869-d93e-422b-b22b-38b16e35f5ff",
   "metadata": {},
   "outputs": [],
   "source": [
    "nums = [10, 20, 30, 50]"
   ]
  },
  {
   "cell_type": "code",
   "execution_count": 3,
   "id": "cee9c932-b0b3-4c63-a261-1b9e12466b83",
   "metadata": {},
   "outputs": [
    {
     "data": {
      "text/plain": [
       "[10, 20, 30, 50]"
      ]
     },
     "execution_count": 3,
     "metadata": {},
     "output_type": "execute_result"
    }
   ],
   "source": [
    "nums"
   ]
  },
  {
   "cell_type": "code",
   "execution_count": 5,
   "id": "d2fc4adc-61ef-4ebf-863d-fda6763719a8",
   "metadata": {},
   "outputs": [
    {
     "data": {
      "text/plain": [
       "[20]"
      ]
     },
     "execution_count": 5,
     "metadata": {},
     "output_type": "execute_result"
    }
   ],
   "source": [
    "nums[1:2]"
   ]
  },
  {
   "cell_type": "code",
   "execution_count": 6,
   "id": "5b63b884-d6e4-4db0-9404-407ce83edbb7",
   "metadata": {},
   "outputs": [
    {
     "data": {
      "text/plain": [
       "[10, 20]"
      ]
     },
     "execution_count": 6,
     "metadata": {},
     "output_type": "execute_result"
    }
   ],
   "source": [
    "nums[0:2]"
   ]
  },
  {
   "cell_type": "code",
   "execution_count": 8,
   "id": "f756295f-adf9-4a0f-a4bd-e8e81783ce01",
   "metadata": {},
   "outputs": [
    {
     "data": {
      "text/plain": [
       "20"
      ]
     },
     "execution_count": 8,
     "metadata": {},
     "output_type": "execute_result"
    }
   ],
   "source": [
    "nums[-3]"
   ]
  },
  {
   "cell_type": "code",
   "execution_count": 9,
   "id": "472109fd-347a-4ae1-a650-62d78543e328",
   "metadata": {},
   "outputs": [
    {
     "data": {
      "text/plain": [
       "10"
      ]
     },
     "execution_count": 9,
     "metadata": {},
     "output_type": "execute_result"
    }
   ],
   "source": [
    "nums[-0]"
   ]
  },
  {
   "cell_type": "code",
   "execution_count": 10,
   "id": "fd847805-0fc0-45c0-979c-3e6932addae7",
   "metadata": {},
   "outputs": [
    {
     "data": {
      "text/plain": [
       "50"
      ]
     },
     "execution_count": 10,
     "metadata": {},
     "output_type": "execute_result"
    }
   ],
   "source": [
    "nums[-1]"
   ]
  },
  {
   "cell_type": "code",
   "execution_count": 12,
   "id": "1fb0f685-f594-449d-8e6a-29560fe5ae83",
   "metadata": {},
   "outputs": [],
   "source": [
    "nums.append(80)"
   ]
  },
  {
   "cell_type": "code",
   "execution_count": 13,
   "id": "b86b5c45-10b0-4adc-a9f4-18f95a9ff378",
   "metadata": {},
   "outputs": [
    {
     "data": {
      "text/plain": [
       "[10, 20, 30, 50, 80, 80]"
      ]
     },
     "execution_count": 13,
     "metadata": {},
     "output_type": "execute_result"
    }
   ],
   "source": [
    "nums"
   ]
  },
  {
   "cell_type": "code",
   "execution_count": 14,
   "id": "7993e197-19a7-4693-8520-ca260f7fbac0",
   "metadata": {},
   "outputs": [],
   "source": [
    "nums.insert(2,14)"
   ]
  },
  {
   "cell_type": "code",
   "execution_count": 15,
   "id": "10ab9c8c-50c6-4359-867c-760243e4df31",
   "metadata": {},
   "outputs": [
    {
     "data": {
      "text/plain": [
       "[10, 20, 14, 30, 50, 80, 80]"
      ]
     },
     "execution_count": 15,
     "metadata": {},
     "output_type": "execute_result"
    }
   ],
   "source": [
    "nums"
   ]
  },
  {
   "cell_type": "code",
   "execution_count": 16,
   "id": "88262130-fdbd-44a8-bb3e-4f0e0758328c",
   "metadata": {},
   "outputs": [],
   "source": [
    "del nums[3:]"
   ]
  },
  {
   "cell_type": "code",
   "execution_count": 17,
   "id": "08a89cd0-017d-4f8d-8aad-bef4033177fb",
   "metadata": {},
   "outputs": [
    {
     "data": {
      "text/plain": [
       "[10, 20, 14]"
      ]
     },
     "execution_count": 17,
     "metadata": {},
     "output_type": "execute_result"
    }
   ],
   "source": [
    "nums"
   ]
  },
  {
   "cell_type": "code",
   "execution_count": 18,
   "id": "d8ef0796-6bc9-4677-a9c8-79813abd87a2",
   "metadata": {},
   "outputs": [
    {
     "data": {
      "text/plain": [
       "10"
      ]
     },
     "execution_count": 18,
     "metadata": {},
     "output_type": "execute_result"
    }
   ],
   "source": [
    "min(nums)"
   ]
  },
  {
   "cell_type": "code",
   "execution_count": 19,
   "id": "e7e23968-8d80-41a1-bebd-094710ab1b6b",
   "metadata": {},
   "outputs": [
    {
     "data": {
      "text/plain": [
       "20"
      ]
     },
     "execution_count": 19,
     "metadata": {},
     "output_type": "execute_result"
    }
   ],
   "source": [
    "max(nums)"
   ]
  },
  {
   "cell_type": "code",
   "execution_count": 20,
   "id": "62c8d126-365f-49ac-bda5-a022b2fd5915",
   "metadata": {},
   "outputs": [],
   "source": [
    "nums.sort()"
   ]
  },
  {
   "cell_type": "code",
   "execution_count": 28,
   "id": "c3a53b14-ef3b-4276-a61f-1ae0e815824d",
   "metadata": {},
   "outputs": [
    {
     "data": {
      "text/plain": [
       "[20, 14, 10]"
      ]
     },
     "execution_count": 28,
     "metadata": {},
     "output_type": "execute_result"
    }
   ],
   "source": [
    "nums"
   ]
  },
  {
   "cell_type": "code",
   "execution_count": 24,
   "id": "d9bd4bfe-1d45-46cd-82de-7351f7c00633",
   "metadata": {},
   "outputs": [],
   "source": [
    "nums.sort(reverse=True)"
   ]
  },
  {
   "cell_type": "code",
   "execution_count": 25,
   "id": "6dfeb91e-df63-423d-9735-b55e300588d0",
   "metadata": {},
   "outputs": [
    {
     "data": {
      "text/plain": [
       "[20, 14, 10]"
      ]
     },
     "execution_count": 25,
     "metadata": {},
     "output_type": "execute_result"
    }
   ],
   "source": [
    "nums"
   ]
  },
  {
   "cell_type": "markdown",
   "id": "91c6d5f1-7327-4866-acaa-8fca10b45b5f",
   "metadata": {},
   "source": [
    "Dictionary"
   ]
  },
  {
   "cell_type": "code",
   "execution_count": 26,
   "id": "5fc3fd53-1d70-4b2b-a934-1772802baac3",
   "metadata": {},
   "outputs": [],
   "source": [
    "data = {1:'Gopinath', 2: 'Muny', 3: 'Maya'}"
   ]
  },
  {
   "cell_type": "code",
   "execution_count": 27,
   "id": "eb96a038-c4df-4427-93bc-026b8f5a425e",
   "metadata": {},
   "outputs": [
    {
     "data": {
      "text/plain": [
       "{1: 'Gopinath', 2: 'Muny', 3: 'Maya'}"
      ]
     },
     "execution_count": 27,
     "metadata": {},
     "output_type": "execute_result"
    }
   ],
   "source": [
    "data"
   ]
  },
  {
   "cell_type": "code",
   "execution_count": 29,
   "id": "c2437451-c378-4dba-a2dd-cbd2065002c2",
   "metadata": {},
   "outputs": [
    {
     "data": {
      "text/plain": [
       "'Gopinath'"
      ]
     },
     "execution_count": 29,
     "metadata": {},
     "output_type": "execute_result"
    }
   ],
   "source": [
    "data[1]"
   ]
  },
  {
   "cell_type": "code",
   "execution_count": 30,
   "id": "ca155e66-5800-41ac-a84c-96175cbb8530",
   "metadata": {},
   "outputs": [
    {
     "data": {
      "text/plain": [
       "'Maya'"
      ]
     },
     "execution_count": 30,
     "metadata": {},
     "output_type": "execute_result"
    }
   ],
   "source": [
    "data[3]"
   ]
  },
  {
   "cell_type": "code",
   "execution_count": 31,
   "id": "36092aed-5a49-4bb9-b84a-fbea0f55a6b5",
   "metadata": {},
   "outputs": [
    {
     "name": "stdout",
     "output_type": "stream",
     "text": [
      "\n",
      "Welcome to Python 3.8's help utility!\n",
      "\n",
      "If this is your first time using Python, you should definitely check out\n",
      "the tutorial on the Internet at https://docs.python.org/3.8/tutorial/.\n",
      "\n",
      "Enter the name of any module, keyword, or topic to get help on writing\n",
      "Python programs and using Python modules.  To quit this help utility and\n",
      "return to the interpreter, just type \"quit\".\n",
      "\n",
      "To get a list of available modules, keywords, symbols, or topics, type\n",
      "\"modules\", \"keywords\", \"symbols\", or \"topics\".  Each module also comes\n",
      "with a one-line summary of what it does; to list the modules whose name\n",
      "or summary contain a given string such as \"spam\", type \"modules spam\".\n",
      "\n"
     ]
    },
    {
     "name": "stdin",
     "output_type": "stream",
     "text": [
      "help>  LISTS\n"
     ]
    },
    {
     "name": "stdout",
     "output_type": "stream",
     "text": [
      "Mutable Sequence Types\n",
      "**********************\n",
      "\n",
      "The operations in the following table are defined on mutable sequence\n",
      "types. The \"collections.abc.MutableSequence\" ABC is provided to make\n",
      "it easier to correctly implement these operations on custom sequence\n",
      "types.\n",
      "\n",
      "In the table *s* is an instance of a mutable sequence type, *t* is any\n",
      "iterable object and *x* is an arbitrary object that meets any type and\n",
      "value restrictions imposed by *s* (for example, \"bytearray\" only\n",
      "accepts integers that meet the value restriction \"0 <= x <= 255\").\n",
      "\n",
      "+--------------------------------+----------------------------------+-----------------------+\n",
      "| Operation                      | Result                           | Notes                 |\n",
      "|================================|==================================|=======================|\n",
      "| \"s[i] = x\"                     | item *i* of *s* is replaced by   |                       |\n",
      "|                                | *x*                              |                       |\n",
      "+--------------------------------+----------------------------------+-----------------------+\n",
      "| \"s[i:j] = t\"                   | slice of *s* from *i* to *j* is  |                       |\n",
      "|                                | replaced by the contents of the  |                       |\n",
      "|                                | iterable *t*                     |                       |\n",
      "+--------------------------------+----------------------------------+-----------------------+\n",
      "| \"del s[i:j]\"                   | same as \"s[i:j] = []\"            |                       |\n",
      "+--------------------------------+----------------------------------+-----------------------+\n",
      "| \"s[i:j:k] = t\"                 | the elements of \"s[i:j:k]\" are   | (1)                   |\n",
      "|                                | replaced by those of *t*         |                       |\n",
      "+--------------------------------+----------------------------------+-----------------------+\n",
      "| \"del s[i:j:k]\"                 | removes the elements of          |                       |\n",
      "|                                | \"s[i:j:k]\" from the list         |                       |\n",
      "+--------------------------------+----------------------------------+-----------------------+\n",
      "| \"s.append(x)\"                  | appends *x* to the end of the    |                       |\n",
      "|                                | sequence (same as                |                       |\n",
      "|                                | \"s[len(s):len(s)] = [x]\")        |                       |\n",
      "+--------------------------------+----------------------------------+-----------------------+\n",
      "| \"s.clear()\"                    | removes all items from *s* (same | (5)                   |\n",
      "|                                | as \"del s[:]\")                   |                       |\n",
      "+--------------------------------+----------------------------------+-----------------------+\n",
      "| \"s.copy()\"                     | creates a shallow copy of *s*    | (5)                   |\n",
      "|                                | (same as \"s[:]\")                 |                       |\n",
      "+--------------------------------+----------------------------------+-----------------------+\n",
      "| \"s.extend(t)\" or \"s += t\"      | extends *s* with the contents of |                       |\n",
      "|                                | *t* (for the most part the same  |                       |\n",
      "|                                | as \"s[len(s):len(s)] = t\")       |                       |\n",
      "+--------------------------------+----------------------------------+-----------------------+\n",
      "| \"s *= n\"                       | updates *s* with its contents    | (6)                   |\n",
      "|                                | repeated *n* times               |                       |\n",
      "+--------------------------------+----------------------------------+-----------------------+\n",
      "| \"s.insert(i, x)\"               | inserts *x* into *s* at the      |                       |\n",
      "|                                | index given by *i* (same as      |                       |\n",
      "|                                | \"s[i:i] = [x]\")                  |                       |\n",
      "+--------------------------------+----------------------------------+-----------------------+\n",
      "| \"s.pop([i])\"                   | retrieves the item at *i* and    | (2)                   |\n",
      "|                                | also removes it from *s*         |                       |\n",
      "+--------------------------------+----------------------------------+-----------------------+\n",
      "| \"s.remove(x)\"                  | remove the first item from *s*   | (3)                   |\n",
      "|                                | where \"s[i]\" is equal to *x*     |                       |\n",
      "+--------------------------------+----------------------------------+-----------------------+\n",
      "| \"s.reverse()\"                  | reverses the items of *s* in     | (4)                   |\n",
      "|                                | place                            |                       |\n",
      "+--------------------------------+----------------------------------+-----------------------+\n",
      "\n",
      "Notes:\n",
      "\n",
      "1. *t* must have the same length as the slice it is replacing.\n",
      "\n",
      "2. The optional argument *i* defaults to \"-1\", so that by default the\n",
      "   last item is removed and returned.\n",
      "\n",
      "3. \"remove()\" raises \"ValueError\" when *x* is not found in *s*.\n",
      "\n",
      "4. The \"reverse()\" method modifies the sequence in place for economy\n",
      "   of space when reversing a large sequence.  To remind users that it\n",
      "   operates by side effect, it does not return the reversed sequence.\n",
      "\n",
      "5. \"clear()\" and \"copy()\" are included for consistency with the\n",
      "   interfaces of mutable containers that don’t support slicing\n",
      "   operations (such as \"dict\" and \"set\"). \"copy()\" is not part of the\n",
      "   \"collections.abc.MutableSequence\" ABC, but most concrete mutable\n",
      "   sequence classes provide it.\n",
      "\n",
      "   New in version 3.3: \"clear()\" and \"copy()\" methods.\n",
      "\n",
      "6. The value *n* is an integer, or an object implementing\n",
      "   \"__index__()\".  Zero and negative values of *n* clear the sequence.\n",
      "   Items in the sequence are not copied; they are referenced multiple\n",
      "   times, as explained for \"s * n\" under Common Sequence Operations.\n",
      "\n",
      "Related help topics: LISTLITERALS\n",
      "\n"
     ]
    },
    {
     "name": "stdin",
     "output_type": "stream",
     "text": [
      "help>  quit\n"
     ]
    },
    {
     "name": "stdout",
     "output_type": "stream",
     "text": [
      "\n",
      "You are now leaving help and returning to the Python interpreter.\n",
      "If you want to ask for help on a particular object directly from the\n",
      "interpreter, you can type \"help(object)\".  Executing \"help('string')\"\n",
      "has the same effect as typing a particular string at the help> prompt.\n"
     ]
    }
   ],
   "source": [
    "help()"
   ]
  },
  {
   "cell_type": "code",
   "execution_count": 33,
   "id": "6993c942-9579-4172-b9c0-82e11e2d7930",
   "metadata": {},
   "outputs": [
    {
     "name": "stdout",
     "output_type": "stream",
     "text": [
      "Mutable Sequence Types\n",
      "**********************\n",
      "\n",
      "The operations in the following table are defined on mutable sequence\n",
      "types. The \"collections.abc.MutableSequence\" ABC is provided to make\n",
      "it easier to correctly implement these operations on custom sequence\n",
      "types.\n",
      "\n",
      "In the table *s* is an instance of a mutable sequence type, *t* is any\n",
      "iterable object and *x* is an arbitrary object that meets any type and\n",
      "value restrictions imposed by *s* (for example, \"bytearray\" only\n",
      "accepts integers that meet the value restriction \"0 <= x <= 255\").\n",
      "\n",
      "+--------------------------------+----------------------------------+-----------------------+\n",
      "| Operation                      | Result                           | Notes                 |\n",
      "|================================|==================================|=======================|\n",
      "| \"s[i] = x\"                     | item *i* of *s* is replaced by   |                       |\n",
      "|                                | *x*                              |                       |\n",
      "+--------------------------------+----------------------------------+-----------------------+\n",
      "| \"s[i:j] = t\"                   | slice of *s* from *i* to *j* is  |                       |\n",
      "|                                | replaced by the contents of the  |                       |\n",
      "|                                | iterable *t*                     |                       |\n",
      "+--------------------------------+----------------------------------+-----------------------+\n",
      "| \"del s[i:j]\"                   | same as \"s[i:j] = []\"            |                       |\n",
      "+--------------------------------+----------------------------------+-----------------------+\n",
      "| \"s[i:j:k] = t\"                 | the elements of \"s[i:j:k]\" are   | (1)                   |\n",
      "|                                | replaced by those of *t*         |                       |\n",
      "+--------------------------------+----------------------------------+-----------------------+\n",
      "| \"del s[i:j:k]\"                 | removes the elements of          |                       |\n",
      "|                                | \"s[i:j:k]\" from the list         |                       |\n",
      "+--------------------------------+----------------------------------+-----------------------+\n",
      "| \"s.append(x)\"                  | appends *x* to the end of the    |                       |\n",
      "|                                | sequence (same as                |                       |\n",
      "|                                | \"s[len(s):len(s)] = [x]\")        |                       |\n",
      "+--------------------------------+----------------------------------+-----------------------+\n",
      "| \"s.clear()\"                    | removes all items from *s* (same | (5)                   |\n",
      "|                                | as \"del s[:]\")                   |                       |\n",
      "+--------------------------------+----------------------------------+-----------------------+\n",
      "| \"s.copy()\"                     | creates a shallow copy of *s*    | (5)                   |\n",
      "|                                | (same as \"s[:]\")                 |                       |\n",
      "+--------------------------------+----------------------------------+-----------------------+\n",
      "| \"s.extend(t)\" or \"s += t\"      | extends *s* with the contents of |                       |\n",
      "|                                | *t* (for the most part the same  |                       |\n",
      "|                                | as \"s[len(s):len(s)] = t\")       |                       |\n",
      "+--------------------------------+----------------------------------+-----------------------+\n",
      "| \"s *= n\"                       | updates *s* with its contents    | (6)                   |\n",
      "|                                | repeated *n* times               |                       |\n",
      "+--------------------------------+----------------------------------+-----------------------+\n",
      "| \"s.insert(i, x)\"               | inserts *x* into *s* at the      |                       |\n",
      "|                                | index given by *i* (same as      |                       |\n",
      "|                                | \"s[i:i] = [x]\")                  |                       |\n",
      "+--------------------------------+----------------------------------+-----------------------+\n",
      "| \"s.pop([i])\"                   | retrieves the item at *i* and    | (2)                   |\n",
      "|                                | also removes it from *s*         |                       |\n",
      "+--------------------------------+----------------------------------+-----------------------+\n",
      "| \"s.remove(x)\"                  | remove the first item from *s*   | (3)                   |\n",
      "|                                | where \"s[i]\" is equal to *x*     |                       |\n",
      "+--------------------------------+----------------------------------+-----------------------+\n",
      "| \"s.reverse()\"                  | reverses the items of *s* in     | (4)                   |\n",
      "|                                | place                            |                       |\n",
      "+--------------------------------+----------------------------------+-----------------------+\n",
      "\n",
      "Notes:\n",
      "\n",
      "1. *t* must have the same length as the slice it is replacing.\n",
      "\n",
      "2. The optional argument *i* defaults to \"-1\", so that by default the\n",
      "   last item is removed and returned.\n",
      "\n",
      "3. \"remove()\" raises \"ValueError\" when *x* is not found in *s*.\n",
      "\n",
      "4. The \"reverse()\" method modifies the sequence in place for economy\n",
      "   of space when reversing a large sequence.  To remind users that it\n",
      "   operates by side effect, it does not return the reversed sequence.\n",
      "\n",
      "5. \"clear()\" and \"copy()\" are included for consistency with the\n",
      "   interfaces of mutable containers that don’t support slicing\n",
      "   operations (such as \"dict\" and \"set\"). \"copy()\" is not part of the\n",
      "   \"collections.abc.MutableSequence\" ABC, but most concrete mutable\n",
      "   sequence classes provide it.\n",
      "\n",
      "   New in version 3.3: \"clear()\" and \"copy()\" methods.\n",
      "\n",
      "6. The value *n* is an integer, or an object implementing\n",
      "   \"__index__()\".  Zero and negative values of *n* clear the sequence.\n",
      "   Items in the sequence are not copied; they are referenced multiple\n",
      "   times, as explained for \"s * n\" under Common Sequence Operations.\n",
      "\n",
      "Related help topics: LISTLITERALS\n",
      "\n"
     ]
    }
   ],
   "source": [
    "help('LISTS')"
   ]
  },
  {
   "cell_type": "markdown",
   "id": "0081ea15-861f-4107-a54e-83257524d1d3",
   "metadata": {},
   "source": [
    "Type Conversion"
   ]
  },
  {
   "cell_type": "code",
   "execution_count": 34,
   "id": "25a9bc83-2a8d-4de0-9946-5847900cf756",
   "metadata": {},
   "outputs": [
    {
     "data": {
      "text/plain": [
       "int"
      ]
     },
     "execution_count": 34,
     "metadata": {},
     "output_type": "execute_result"
    }
   ],
   "source": [
    "a = 10\n",
    "type(a)"
   ]
  },
  {
   "cell_type": "code",
   "execution_count": 35,
   "id": "518ce66d-d827-4764-a1d2-1bdf7bc29585",
   "metadata": {},
   "outputs": [
    {
     "data": {
      "text/plain": [
       "float"
      ]
     },
     "execution_count": 35,
     "metadata": {},
     "output_type": "execute_result"
    }
   ],
   "source": [
    "b = float(a)\n",
    "type(b)"
   ]
  },
  {
   "cell_type": "markdown",
   "id": "2f3939d3-bd22-4038-844e-d05445762d27",
   "metadata": {},
   "source": [
    "if statement"
   ]
  },
  {
   "cell_type": "code",
   "execution_count": 39,
   "id": "dd16c8d5-99af-417c-951b-8b5fdd9450fb",
   "metadata": {},
   "outputs": [
    {
     "name": "stdout",
     "output_type": "stream",
     "text": [
      "A is 2\n"
     ]
    }
   ],
   "source": [
    "a = 2\n",
    "if(a==1):\n",
    "    print('A is 1')\n",
    "elif(a==2):\n",
    "    print('A is 2')\n",
    "else:\n",
    "    print('False')"
   ]
  },
  {
   "cell_type": "markdown",
   "id": "11686bcb-212a-4d8a-878e-eea9f86a36b9",
   "metadata": {},
   "source": [
    "while Loop"
   ]
  },
  {
   "cell_type": "code",
   "execution_count": 40,
   "id": "73539af2-a9d9-4d74-aa70-62c74fbc604c",
   "metadata": {},
   "outputs": [
    {
     "name": "stdout",
     "output_type": "stream",
     "text": [
      "Hello\n",
      "Hello\n",
      "Hello\n"
     ]
    }
   ],
   "source": [
    "i = 1\n",
    "while(i<=3):\n",
    "    print('Hello')\n",
    "    i = i + 1"
   ]
  },
  {
   "cell_type": "markdown",
   "id": "e4104430-f98a-448a-a653-8e764586307b",
   "metadata": {},
   "source": [
    "for loop"
   ]
  },
  {
   "cell_type": "code",
   "execution_count": 44,
   "id": "e6d70a0b-7380-459a-b718-ee6409555278",
   "metadata": {},
   "outputs": [
    {
     "name": "stdout",
     "output_type": "stream",
     "text": [
      "3\n",
      "5\n",
      "9\n",
      "10\n"
     ]
    }
   ],
   "source": [
    "a = [3,5,9,10]\n",
    "for i in a:\n",
    "    print(i)"
   ]
  },
  {
   "cell_type": "code",
   "execution_count": 45,
   "id": "59894364-5398-45f2-98fe-e90097b2d3e4",
   "metadata": {},
   "outputs": [
    {
     "name": "stdout",
     "output_type": "stream",
     "text": [
      "5\n",
      "9\n"
     ]
    }
   ],
   "source": [
    "for i in range(1,3,1):\n",
    "    print(a[i])"
   ]
  },
  {
   "cell_type": "code",
   "execution_count": 46,
   "id": "2abed017-1487-4641-8a5b-9596041f65a8",
   "metadata": {},
   "outputs": [
    {
     "name": "stdout",
     "output_type": "stream",
     "text": [
      "10\n",
      "9\n"
     ]
    }
   ],
   "source": [
    "for i in range(3,1,-1):\n",
    "    print(a[i])"
   ]
  },
  {
   "cell_type": "markdown",
   "id": "a3fdee68-e283-47cc-aaad-b403fe56cbd3",
   "metadata": {},
   "source": [
    "Practice question:\n",
    "1. Find the kth element in an unsorted array. "
   ]
  },
  {
   "cell_type": "code",
   "execution_count": 72,
   "id": "c2d60ddc-fcb8-4af2-8df7-a943bc1786ce",
   "metadata": {},
   "outputs": [
    {
     "name": "stdout",
     "output_type": "stream",
     "text": [
      "3\n"
     ]
    }
   ],
   "source": [
    "a = [1,1,4,7,3,4,2,2,4]\n",
    "k = 2\n",
    "a.sort()\n",
    "new_a = []\n",
    "for i in range(0,len(a),1):\n",
    "    if i==0:\n",
    "        new_a.append(a[i])\n",
    "    elif a[i] in new_a:\n",
    "        continue\n",
    "    else:\n",
    "        new_a.append(a[i])\n",
    "print(new_a[2])"
   ]
  },
  {
   "cell_type": "markdown",
   "id": "7ee817ff-830d-498d-acc8-51bd161d8297",
   "metadata": {},
   "source": [
    "2. If even numbers lie together, include an asterix, if odd, then -"
   ]
  },
  {
   "cell_type": "code",
   "execution_count": 130,
   "id": "69853678-9234-401e-b319-9bfbee7d191a",
   "metadata": {},
   "outputs": [
    {
     "data": {
      "text/plain": [
       "'21-9-3452*4*8*2*43'"
      ]
     },
     "execution_count": 130,
     "metadata": {},
     "output_type": "execute_result"
    }
   ],
   "source": [
    "a = \"219345248243\"\n",
    "count = 0\n",
    "a_new = \"\"\n",
    "prev_i = 0\n",
    "for i in a:\n",
    "    if count == 0:\n",
    "        prev_i = i\n",
    "        a_new = a_new + i\n",
    "    elif ((int(prev_i)+int(i))%2 == 0) & (int(i)%2==0):\n",
    "        a_new = a_new + '*' + i\n",
    "        prev_i = i\n",
    "    elif ((int(prev_i)+int(i))%2 == 0) & (int(i)%2!=0):\n",
    "        a_new = a_new + '-' + i\n",
    "        prev_i = i\n",
    "    else:\n",
    "        a_new = a_new +  i\n",
    "        prev_i = i\n",
    "    count = count + 1\n",
    "a_new"
   ]
  },
  {
   "cell_type": "markdown",
   "id": "28bcdf0a-2d7f-4216-a9f6-86ca1ee5445d",
   "metadata": {},
   "source": [
    "Data Frames"
   ]
  },
  {
   "cell_type": "code",
   "execution_count": 3,
   "id": "f1ff2f8a-bd8d-4d30-adb4-a0ecd05726ce",
   "metadata": {},
   "outputs": [],
   "source": [
    "import pandas as pd"
   ]
  },
  {
   "cell_type": "code",
   "execution_count": 31,
   "id": "c5899615-26b7-484c-83e5-d3f8db1c90ac",
   "metadata": {},
   "outputs": [],
   "source": [
    "df = pd.DataFrame([\n",
    "    ['Ash', 'R', 10],\n",
    "    ['Ash', 'Stats', 10],\n",
    "    ['Var', 'R', 20],\n",
    "    ['Var', 'Stats', 15],\n",
    "    ['Aksh', 'R', 20],\n",
    "    ['Aksh', 'Stats', 15]],\n",
    "    columns = ['Name', 'Sub', 'Score']\n",
    ")"
   ]
  },
  {
   "cell_type": "code",
   "execution_count": 32,
   "id": "91faecb4-ea26-4fe9-9f7a-a8cfdab6011a",
   "metadata": {},
   "outputs": [
    {
     "data": {
      "text/html": [
       "<div>\n",
       "<style scoped>\n",
       "    .dataframe tbody tr th:only-of-type {\n",
       "        vertical-align: middle;\n",
       "    }\n",
       "\n",
       "    .dataframe tbody tr th {\n",
       "        vertical-align: top;\n",
       "    }\n",
       "\n",
       "    .dataframe thead th {\n",
       "        text-align: right;\n",
       "    }\n",
       "</style>\n",
       "<table border=\"1\" class=\"dataframe\">\n",
       "  <thead>\n",
       "    <tr style=\"text-align: right;\">\n",
       "      <th></th>\n",
       "      <th>Name</th>\n",
       "      <th>Sub</th>\n",
       "      <th>Score</th>\n",
       "    </tr>\n",
       "  </thead>\n",
       "  <tbody>\n",
       "    <tr>\n",
       "      <th>0</th>\n",
       "      <td>Ash</td>\n",
       "      <td>R</td>\n",
       "      <td>10</td>\n",
       "    </tr>\n",
       "    <tr>\n",
       "      <th>1</th>\n",
       "      <td>Ash</td>\n",
       "      <td>Stats</td>\n",
       "      <td>10</td>\n",
       "    </tr>\n",
       "    <tr>\n",
       "      <th>2</th>\n",
       "      <td>Var</td>\n",
       "      <td>R</td>\n",
       "      <td>20</td>\n",
       "    </tr>\n",
       "    <tr>\n",
       "      <th>3</th>\n",
       "      <td>Var</td>\n",
       "      <td>Stats</td>\n",
       "      <td>15</td>\n",
       "    </tr>\n",
       "    <tr>\n",
       "      <th>4</th>\n",
       "      <td>Aksh</td>\n",
       "      <td>R</td>\n",
       "      <td>20</td>\n",
       "    </tr>\n",
       "    <tr>\n",
       "      <th>5</th>\n",
       "      <td>Aksh</td>\n",
       "      <td>Stats</td>\n",
       "      <td>15</td>\n",
       "    </tr>\n",
       "  </tbody>\n",
       "</table>\n",
       "</div>"
      ],
      "text/plain": [
       "   Name    Sub  Score\n",
       "0   Ash      R     10\n",
       "1   Ash  Stats     10\n",
       "2   Var      R     20\n",
       "3   Var  Stats     15\n",
       "4  Aksh      R     20\n",
       "5  Aksh  Stats     15"
      ]
     },
     "execution_count": 32,
     "metadata": {},
     "output_type": "execute_result"
    }
   ],
   "source": [
    "df"
   ]
  },
  {
   "cell_type": "code",
   "execution_count": 10,
   "id": "dc22fdff-4f6b-42b6-a007-d0db72ce0442",
   "metadata": {},
   "outputs": [
    {
     "data": {
      "text/plain": [
       "0     Ash\n",
       "1     Ash\n",
       "2     Var\n",
       "3     Var\n",
       "4    Aksh\n",
       "5    Aksh\n",
       "Name: Name, dtype: object"
      ]
     },
     "execution_count": 10,
     "metadata": {},
     "output_type": "execute_result"
    }
   ],
   "source": [
    "df.Name"
   ]
  },
  {
   "cell_type": "code",
   "execution_count": 21,
   "id": "b06c58a2-d4d3-48c6-a681-58c50998bc5d",
   "metadata": {},
   "outputs": [
    {
     "data": {
      "text/html": [
       "<div>\n",
       "<style scoped>\n",
       "    .dataframe tbody tr th:only-of-type {\n",
       "        vertical-align: middle;\n",
       "    }\n",
       "\n",
       "    .dataframe tbody tr th {\n",
       "        vertical-align: top;\n",
       "    }\n",
       "\n",
       "    .dataframe thead th {\n",
       "        text-align: right;\n",
       "    }\n",
       "</style>\n",
       "<table border=\"1\" class=\"dataframe\">\n",
       "  <thead>\n",
       "    <tr style=\"text-align: right;\">\n",
       "      <th></th>\n",
       "      <th>Name</th>\n",
       "    </tr>\n",
       "  </thead>\n",
       "  <tbody>\n",
       "    <tr>\n",
       "      <th>3</th>\n",
       "      <td>Var</td>\n",
       "    </tr>\n",
       "    <tr>\n",
       "      <th>4</th>\n",
       "      <td>Aksh</td>\n",
       "    </tr>\n",
       "  </tbody>\n",
       "</table>\n",
       "</div>"
      ],
      "text/plain": [
       "   Name\n",
       "3   Var\n",
       "4  Aksh"
      ]
     },
     "execution_count": 21,
     "metadata": {},
     "output_type": "execute_result"
    }
   ],
   "source": [
    "df.loc[3:4, ['Name']]"
   ]
  },
  {
   "cell_type": "code",
   "execution_count": 34,
   "id": "2c83810b-46b6-441d-b27c-f509d8d3d153",
   "metadata": {},
   "outputs": [
    {
     "data": {
      "text/html": [
       "<div>\n",
       "<style scoped>\n",
       "    .dataframe tbody tr th:only-of-type {\n",
       "        vertical-align: middle;\n",
       "    }\n",
       "\n",
       "    .dataframe tbody tr th {\n",
       "        vertical-align: top;\n",
       "    }\n",
       "\n",
       "    .dataframe thead th {\n",
       "        text-align: right;\n",
       "    }\n",
       "</style>\n",
       "<table border=\"1\" class=\"dataframe\">\n",
       "  <thead>\n",
       "    <tr style=\"text-align: right;\">\n",
       "      <th></th>\n",
       "      <th>Name</th>\n",
       "      <th>Sub</th>\n",
       "      <th>Score</th>\n",
       "    </tr>\n",
       "  </thead>\n",
       "  <tbody>\n",
       "    <tr>\n",
       "      <th>2</th>\n",
       "      <td>Var</td>\n",
       "      <td>R</td>\n",
       "      <td>20</td>\n",
       "    </tr>\n",
       "    <tr>\n",
       "      <th>3</th>\n",
       "      <td>Var</td>\n",
       "      <td>Stats</td>\n",
       "      <td>15</td>\n",
       "    </tr>\n",
       "    <tr>\n",
       "      <th>4</th>\n",
       "      <td>Aksh</td>\n",
       "      <td>R</td>\n",
       "      <td>20</td>\n",
       "    </tr>\n",
       "    <tr>\n",
       "      <th>5</th>\n",
       "      <td>Aksh</td>\n",
       "      <td>Stats</td>\n",
       "      <td>15</td>\n",
       "    </tr>\n",
       "  </tbody>\n",
       "</table>\n",
       "</div>"
      ],
      "text/plain": [
       "   Name    Sub  Score\n",
       "2   Var      R     20\n",
       "3   Var  Stats     15\n",
       "4  Aksh      R     20\n",
       "5  Aksh  Stats     15"
      ]
     },
     "execution_count": 34,
     "metadata": {},
     "output_type": "execute_result"
    }
   ],
   "source": [
    "df[df.Score > 10]"
   ]
  },
  {
   "cell_type": "code",
   "execution_count": null,
   "id": "e63c16ee-c65d-43dc-a815-85d1d670264c",
   "metadata": {},
   "outputs": [],
   "source": []
  }
 ],
 "metadata": {
  "kernelspec": {
   "display_name": "Python 3",
   "language": "python",
   "name": "python3"
  },
  "language_info": {
   "codemirror_mode": {
    "name": "ipython",
    "version": 3
   },
   "file_extension": ".py",
   "mimetype": "text/x-python",
   "name": "python",
   "nbconvert_exporter": "python",
   "pygments_lexer": "ipython3",
   "version": "3.8.8"
  }
 },
 "nbformat": 4,
 "nbformat_minor": 5
}
