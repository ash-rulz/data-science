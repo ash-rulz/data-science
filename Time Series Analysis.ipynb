{
 "cells": [
  {
   "cell_type": "markdown",
   "id": "fa93ef8f",
   "metadata": {},
   "source": [
    "**General Idea**: There is a time/independent/response variable and a target variable. We try to understand the characteristics of the time variable with time and use this to predict/forecast the target variable at a point in time.\n",
    "A time series would be of the following types:\n",
    "1. Trend: The divergence would be continuous in nature. Can be positive/negative/null trend.Its either upward or downsward trend and hence it's easy to predict.\n",
    "2. Seasonality: Can be a bell curve or saw tooth. The pattern may be repeatable and hence its easy to predict.\n",
    "3. Cyclical: There is no fixed time interval and there can be uncertainity in the movement and its pattern. Hence, it is difficult to predict.\n",
    "4. Irregularity: This is similar to Cyclical, but even more erratic and unexpected than it. This is also difficult to predict."
   ]
  },
  {
   "cell_type": "markdown",
   "id": "13f84ec0",
   "metadata": {},
   "source": [
    "**Time Series Methods**\n",
    "1. Moving Average Methodology\n",
    "    - Simple Moving Average(SMA) \n",
    "    - Cumulative Moving Average(CMA)\n",
    "    - Exponentail Moving Average(EMA)\n",
    "2. Auto-Regressive(AR) model\n",
    "3. Moving Average(MV) model\n",
    "4. AutoRegressive Moving Average(ARMA) model\n",
    "5. ARIMA"
   ]
  },
  {
   "cell_type": "markdown",
   "id": "b1daaa3e",
   "metadata": {},
   "source": [
    "# Moving Average Methodology"
   ]
  },
  {
   "cell_type": "code",
   "execution_count": null,
   "id": "0bb5ef96",
   "metadata": {},
   "outputs": [],
   "source": []
  }
 ],
 "metadata": {
  "kernelspec": {
   "display_name": "Python 3",
   "language": "python",
   "name": "python3"
  },
  "language_info": {
   "codemirror_mode": {
    "name": "ipython",
    "version": 3
   },
   "file_extension": ".py",
   "mimetype": "text/x-python",
   "name": "python",
   "nbconvert_exporter": "python",
   "pygments_lexer": "ipython3",
   "version": "3.8.8"
  }
 },
 "nbformat": 4,
 "nbformat_minor": 5
}
